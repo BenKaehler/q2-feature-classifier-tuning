{
 "cells": [
  {
   "cell_type": "code",
   "execution_count": 1,
   "metadata": {
    "collapsed": false
   },
   "outputs": [],
   "source": [
    "import types\n",
    "from collections import Counter\n",
    "\n",
    "from qiime.sdk import Artifact\n",
    "from qiime.plugins import feature_classifier\n",
    "import pandas as pd\n",
    "from sklearn import (pipeline, naive_bayes, feature_selection, \n",
    "                     grid_search, cross_validation, metrics)\n",
    "import skbio\n",
    "\n",
    "from q2_feature_classifier._skl import _extract_labels, _extract_features"
   ]
  },
  {
   "cell_type": "code",
   "execution_count": 3,
   "metadata": {
    "collapsed": false
   },
   "outputs": [],
   "source": [
    "reference = Artifact.load('99_ref_feat_UNALIGNED.qza')"
   ]
  },
  {
   "cell_type": "code",
   "execution_count": 4,
   "metadata": {
    "collapsed": false
   },
   "outputs": [],
   "source": [
    "read_length = 75 # need to adjust for actual MOCK-6 data\n",
    "f_primer = 'GTGCCAGCMGCCGCGGTAA' # from mockrobiota/data/mock-6/sample-metadata.tsv\n",
    "r_primer = 'GGACTACHVGGGTWTCTAAT'\n",
    "extract_reads = feature_classifier.methods.extract_paired_end_reads\n",
    "reads = extract_reads(reference, read_length, f_primer, r_primer, method='match')"
   ]
  },
  {
   "cell_type": "code",
   "execution_count": 5,
   "metadata": {
    "collapsed": true
   },
   "outputs": [],
   "source": [
    "def get_seq_id(read):\n",
    "    if isinstance(read, skbio.DNA):\n",
    "        return read.metadata['id']\n",
    "    else:\n",
    "        return read[0].metadata['id']"
   ]
  },
  {
   "cell_type": "code",
   "execution_count": 6,
   "metadata": {
    "collapsed": false
   },
   "outputs": [],
   "source": [
    "word_length = 8\n",
    "taxonomy_separator = '; '\n",
    "taxonomy_depth = 6\n",
    "multioutput = False\n",
    "cv = 2\n",
    "read_seqs = list(reads.view(types.GeneratorType))\n",
    "taxonomy = reference.view(pd.Series)\n",
    "\n",
    "seq_ids = [get_seq_id(s) for s in read_seqs]\n",
    "labels = [taxonomy.get(s, 'unknown') for s in seq_ids]\n",
    "labels = _extract_labels(labels, taxonomy_separator, taxonomy_depth, multioutput)\n",
    "counted_labels = Counter(labels)\n",
    "ok_labels = {l for l in counted_labels if counted_labels[l] >= 2*cv}\n",
    "\n",
    "filtered = [(s, l) for s, l in zip(read_seqs, labels) if l in ok_labels]\n",
    "read_seqs, y = zip(*filtered)\n",
    "dummy, X = _extract_features(read_seqs, word_length)\n",
    "\n",
    "# hold some back for validation\n",
    "X_train, X_test, y_train, y_test = cross_validation.train_test_split(\n",
    "    X, y, test_size=0.5, random_state=0, stratify=y)"
   ]
  },
  {
   "cell_type": "code",
   "execution_count": 7,
   "metadata": {
    "collapsed": false
   },
   "outputs": [
    {
     "name": "stderr",
     "output_type": "stream",
     "text": [
      "/Users/ben/miniconda2/envs/qiime2/lib/python3.5/site-packages/sklearn/feature_selection/univariate_selection.py:113: UserWarning: Features [0 0 0 ..., 0 0 0] are constant.\n",
      "  UserWarning)\n",
      "/Users/ben/miniconda2/envs/qiime2/lib/python3.5/site-packages/sklearn/feature_selection/univariate_selection.py:113: UserWarning: Features [0 0 0 ..., 0 0 0] are constant.\n",
      "  UserWarning)\n",
      "/Users/ben/miniconda2/envs/qiime2/lib/python3.5/site-packages/sklearn/feature_selection/univariate_selection.py:113: UserWarning: Features [0 0 0 ..., 0 0 0] are constant.\n",
      "  UserWarning)\n",
      "/Users/ben/miniconda2/envs/qiime2/lib/python3.5/site-packages/sklearn/feature_selection/univariate_selection.py:113: UserWarning: Features [0 0 0 ..., 0 0 0] are constant.\n",
      "  UserWarning)\n",
      "/Users/ben/miniconda2/envs/qiime2/lib/python3.5/site-packages/sklearn/feature_selection/univariate_selection.py:113: UserWarning: Features [0 0 0 ..., 0 0 0] are constant.\n",
      "  UserWarning)\n",
      "/Users/ben/miniconda2/envs/qiime2/lib/python3.5/site-packages/sklearn/feature_selection/univariate_selection.py:113: UserWarning: Features [0 0 0 ..., 0 0 0] are constant.\n",
      "  UserWarning)\n",
      "/Users/ben/miniconda2/envs/qiime2/lib/python3.5/site-packages/sklearn/feature_selection/univariate_selection.py:113: UserWarning: Features [0 0 0 ..., 0 0 0] are constant.\n",
      "  UserWarning)\n",
      "/Users/ben/miniconda2/envs/qiime2/lib/python3.5/site-packages/sklearn/feature_selection/univariate_selection.py:113: UserWarning: Features [0 0 0 ..., 0 0 0] are constant.\n",
      "  UserWarning)\n",
      "/Users/ben/miniconda2/envs/qiime2/lib/python3.5/site-packages/sklearn/feature_selection/univariate_selection.py:113: UserWarning: Features [0 0 0 ..., 0 0 0] are constant.\n",
      "  UserWarning)\n",
      "/Users/ben/miniconda2/envs/qiime2/lib/python3.5/site-packages/sklearn/feature_selection/univariate_selection.py:113: UserWarning: Features [0 0 0 ..., 0 0 0] are constant.\n",
      "  UserWarning)\n",
      "/Users/ben/miniconda2/envs/qiime2/lib/python3.5/site-packages/sklearn/feature_selection/univariate_selection.py:113: UserWarning: Features [0 0 0 ..., 0 0 0] are constant.\n",
      "  UserWarning)\n",
      "/Users/ben/miniconda2/envs/qiime2/lib/python3.5/site-packages/sklearn/feature_selection/univariate_selection.py:113: UserWarning: Features [0 0 0 ..., 0 0 0] are constant.\n",
      "  UserWarning)\n",
      "/Users/ben/miniconda2/envs/qiime2/lib/python3.5/site-packages/sklearn/feature_selection/univariate_selection.py:113: UserWarning: Features [0 0 0 ..., 0 0 0] are constant.\n",
      "  UserWarning)\n",
      "/Users/ben/miniconda2/envs/qiime2/lib/python3.5/site-packages/sklearn/feature_selection/univariate_selection.py:113: UserWarning: Features [0 0 0 ..., 0 0 0] are constant.\n",
      "  UserWarning)\n",
      "/Users/ben/miniconda2/envs/qiime2/lib/python3.5/site-packages/sklearn/feature_selection/univariate_selection.py:113: UserWarning: Features [0 0 0 ..., 0 0 0] are constant.\n",
      "  UserWarning)\n",
      "/Users/ben/miniconda2/envs/qiime2/lib/python3.5/site-packages/sklearn/feature_selection/univariate_selection.py:113: UserWarning: Features [0 0 0 ..., 0 0 0] are constant.\n",
      "  UserWarning)\n",
      "/Users/ben/miniconda2/envs/qiime2/lib/python3.5/site-packages/sklearn/feature_selection/univariate_selection.py:113: UserWarning: Features [0 0 0 ..., 0 0 0] are constant.\n",
      "  UserWarning)\n",
      "/Users/ben/miniconda2/envs/qiime2/lib/python3.5/site-packages/sklearn/feature_selection/univariate_selection.py:113: UserWarning: Features [0 0 0 ..., 0 0 0] are constant.\n",
      "  UserWarning)\n",
      "/Users/ben/miniconda2/envs/qiime2/lib/python3.5/site-packages/sklearn/feature_selection/univariate_selection.py:113: UserWarning: Features [0 0 0 ..., 0 0 0] are constant.\n",
      "  UserWarning)\n"
     ]
    },
    {
     "data": {
      "text/plain": [
       "GridSearchCV(cv=2, error_score='raise',\n",
       "       estimator=Pipeline(steps=[('sel', SelectPercentile(percentile=10,\n",
       "         score_func=<function f_classif at 0x11156c400>)), ('cls', MultinomialNB(alpha=1.0, class_prior=None, fit_prior=True))]),\n",
       "       fit_params={}, iid=True, n_jobs=4,\n",
       "       param_grid={'cls__alpha': [1.0, 0.01, 0.001], 'sel__percentile': [100, 10, 1]},\n",
       "       pre_dispatch='2*n_jobs', refit=True, scoring=None, verbose=0)"
      ]
     },
     "execution_count": 7,
     "metadata": {},
     "output_type": "execute_result"
    }
   ],
   "source": [
    "classifier = naive_bayes.MultinomialNB()\n",
    "selector = feature_selection.SelectPercentile()\n",
    "steps = [('sel', selector), ('cls', classifier)]\n",
    "pipeline = pipeline.Pipeline(steps)\n",
    "grid_params = {'cls__alpha': [1., 0.01, 0.001],\n",
    "               'sel__percentile': [100, 10, 1]}\n",
    "grid = grid_search.GridSearchCV(pipeline, grid_params, cv=cv, n_jobs=4)\n",
    "grid.fit(X_train, y_train)"
   ]
  },
  {
   "cell_type": "code",
   "execution_count": 8,
   "metadata": {
    "collapsed": false
   },
   "outputs": [
    {
     "name": "stdout",
     "output_type": "stream",
     "text": [
      "{'cls__alpha': 0.01, 'sel__percentile': 100}\n"
     ]
    }
   ],
   "source": [
    "print(grid.best_params_)"
   ]
  },
  {
   "cell_type": "code",
   "execution_count": 9,
   "metadata": {
    "collapsed": false
   },
   "outputs": [
    {
     "name": "stdout",
     "output_type": "stream",
     "text": [
      "             precision    recall  f1-score   support\n",
      "avg / total       0.83      0.83      0.82     83085\n"
     ]
    },
    {
     "name": "stderr",
     "output_type": "stream",
     "text": [
      "/Users/ben/miniconda2/envs/qiime2/lib/python3.5/site-packages/sklearn/metrics/classification.py:1074: UndefinedMetricWarning: Precision and F-score are ill-defined and being set to 0.0 in labels with no predicted samples.\n",
      "  'precision', 'predicted', average, warn_for)\n"
     ]
    }
   ],
   "source": [
    "y_true, y_pred = y_test, grid.predict(X_test)\n",
    "report = metrics.classification_report(y_true, y_pred).split('\\n')\n",
    "print(report[0])\n",
    "print(report[-2])"
   ]
  },
  {
   "cell_type": "code",
   "execution_count": 10,
   "metadata": {
    "collapsed": false
   },
   "outputs": [
    {
     "name": "stderr",
     "output_type": "stream",
     "text": [
      "/Users/ben/miniconda2/envs/qiime2/lib/python3.5/site-packages/sklearn/feature_selection/univariate_selection.py:113: UserWarning: Features [0 0 0 ..., 0 0 0] are constant.\n",
      "  UserWarning)\n"
     ]
    },
    {
     "name": "stdout",
     "output_type": "stream",
     "text": [
      "             precision    recall  f1-score   support\n",
      "avg / total       0.37      0.45      0.36     83085\n"
     ]
    },
    {
     "name": "stderr",
     "output_type": "stream",
     "text": [
      "/Users/ben/miniconda2/envs/qiime2/lib/python3.5/site-packages/sklearn/metrics/classification.py:1074: UndefinedMetricWarning: Precision and F-score are ill-defined and being set to 0.0 in labels with no predicted samples.\n",
      "  'precision', 'predicted', average, warn_for)\n"
     ]
    }
   ],
   "source": [
    "opposite_params = {'cls__alpha': 1., 'sel__percentile': 1}\n",
    "pipeline.set_params(**opposite_params)\n",
    "pipeline.fit(X_train, y_train)\n",
    "y_true, y_pred = y_test, pipeline.predict(X_test)\n",
    "report = metrics.classification_report(y_true, y_pred).split('\\n')\n",
    "print(report[0])\n",
    "print(report[-2])"
   ]
  },
  {
   "cell_type": "code",
   "execution_count": null,
   "metadata": {
    "collapsed": true
   },
   "outputs": [],
   "source": []
  }
 ],
 "metadata": {
  "anaconda-cloud": {},
  "kernelspec": {
   "display_name": "Python [conda env:qiime2]",
   "language": "python",
   "name": "conda-env-qiime2-py"
  },
  "language_info": {
   "codemirror_mode": {
    "name": "ipython",
    "version": 3
   },
   "file_extension": ".py",
   "mimetype": "text/x-python",
   "name": "python",
   "nbconvert_exporter": "python",
   "pygments_lexer": "ipython3",
   "version": "3.5.2"
  }
 },
 "nbformat": 4,
 "nbformat_minor": 1
}
