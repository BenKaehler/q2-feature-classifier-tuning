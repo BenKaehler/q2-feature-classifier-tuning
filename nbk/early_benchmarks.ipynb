{
 "cells": [
  {
   "cell_type": "markdown",
   "metadata": {},
   "source": [
    "# Benchmarks for the first million reads in mock-6"
   ]
  },
  {
   "cell_type": "code",
   "execution_count": 42,
   "metadata": {
    "collapsed": true
   },
   "outputs": [],
   "source": [
    "from __future__ import division\n",
    "import csv\n",
    "from pandas import Series\n",
    "import numpy\n",
    "from collections import Counter"
   ]
  },
  {
   "cell_type": "code",
   "execution_count": 65,
   "metadata": {
    "collapsed": false
   },
   "outputs": [],
   "source": [
    "def read_classifications(filename):\n",
    "    classifications = []\n",
    "    with open(filename) as nb_file:\n",
    "        reader = csv.reader(nb_file, delimiter='\\t')\n",
    "        for row in reader:\n",
    "            if row[1] != 'taxonomy':\n",
    "                classifications.append(row[1].replace(' ',''))\n",
    "    return classifications\n",
    "\n",
    "def read_mock(filename):\n",
    "    classifications = []\n",
    "    with open(filename) as nb_file:\n",
    "        reader = csv.reader(nb_file, delimiter='\\t')\n",
    "        for row in reader:\n",
    "            if row[0] != '#Taxonomy':\n",
    "                classifications.append(row[0])\n",
    "    return set(classifications)\n",
    "\n",
    "def get_stats(mock, results):\n",
    "    TP = 0\n",
    "    FP = 0\n",
    "    FN = 0\n",
    "    results = set(results)\n",
    "    for taxon in mock.union(results):\n",
    "        if taxon in mock and taxon in results:\n",
    "            TP += 1\n",
    "        elif taxon not in mock and taxon in results:\n",
    "            FP += 1\n",
    "        elif taxon in mock and taxon not in results:\n",
    "            FN += 1\n",
    "    p = TP/(TP+FP)\n",
    "    r = TP/(TP+FN)\n",
    "    stats = {'precision': p,\n",
    "             'recall': r,\n",
    "             'f' : 2*p*r/(p + r)}\n",
    "    return stats\n",
    "\n",
    "def get_correlation(mock, results):\n",
    "    m = numpy.ones(len(mock))\n",
    "    results = Counter(results)\n",
    "    r = numpy.array([results[t] for t in mock])\n",
    "    return m.dot(r)/numpy.sqrt(m.dot(m)*r.dot(r))"
   ]
  },
  {
   "cell_type": "code",
   "execution_count": 37,
   "metadata": {
    "collapsed": false
   },
   "outputs": [],
   "source": [
    "fc_nb = read_classifications('../processed/mock-6/mock_6_fewer_classification/data/taxonomy.tsv')\n",
    "rdp = read_classifications('../processed/mock-6/rdp_noc/mock_6_fewer_reads_tax_assignments.txt')\n",
    "mock = read_mock('../data/mockrobiota/data/mock-6/greengenes/13_8/expected-taxonomy.tsv')"
   ]
  },
  {
   "cell_type": "markdown",
   "metadata": {},
   "source": [
    "#### q2-feature-classifier naive bayes"
   ]
  },
  {
   "cell_type": "code",
   "execution_count": 66,
   "metadata": {
    "collapsed": false
   },
   "outputs": [
    {
     "data": {
      "text/html": [
       "<div>\n",
       "<table border=\"1\" class=\"dataframe\">\n",
       "  <thead>\n",
       "    <tr style=\"text-align: right;\">\n",
       "      <th></th>\n",
       "      <th>statistic</th>\n",
       "    </tr>\n",
       "  </thead>\n",
       "  <tbody>\n",
       "    <tr>\n",
       "      <th>f</th>\n",
       "      <td>0.027817</td>\n",
       "    </tr>\n",
       "    <tr>\n",
       "      <th>precision</th>\n",
       "      <td>0.014125</td>\n",
       "    </tr>\n",
       "    <tr>\n",
       "      <th>recall</th>\n",
       "      <td>0.906977</td>\n",
       "    </tr>\n",
       "    <tr>\n",
       "      <th>rho</th>\n",
       "      <td>0.312815</td>\n",
       "    </tr>\n",
       "  </tbody>\n",
       "</table>\n",
       "</div>"
      ],
      "text/plain": [
       "           statistic\n",
       "f           0.027817\n",
       "precision   0.014125\n",
       "recall      0.906977\n",
       "rho         0.312815"
      ]
     },
     "execution_count": 66,
     "metadata": {},
     "output_type": "execute_result"
    }
   ],
   "source": [
    "stats = get_stats(mock, fc_nb)\n",
    "stats['rho'] = get_correlation(mock, fc_nb)\n",
    "stats = Series(stats, name='statistic')\n",
    "stats.to_frame()"
   ]
  },
  {
   "cell_type": "markdown",
   "metadata": {},
   "source": [
    "#### RDP Classifier"
   ]
  },
  {
   "cell_type": "code",
   "execution_count": 67,
   "metadata": {
    "collapsed": false
   },
   "outputs": [
    {
     "data": {
      "text/html": [
       "<div>\n",
       "<table border=\"1\" class=\"dataframe\">\n",
       "  <thead>\n",
       "    <tr style=\"text-align: right;\">\n",
       "      <th></th>\n",
       "      <th>statistic</th>\n",
       "    </tr>\n",
       "  </thead>\n",
       "  <tbody>\n",
       "    <tr>\n",
       "      <th>f</th>\n",
       "      <td>0.038787</td>\n",
       "    </tr>\n",
       "    <tr>\n",
       "      <th>precision</th>\n",
       "      <td>0.019817</td>\n",
       "    </tr>\n",
       "    <tr>\n",
       "      <th>recall</th>\n",
       "      <td>0.906977</td>\n",
       "    </tr>\n",
       "    <tr>\n",
       "      <th>rho</th>\n",
       "      <td>0.259367</td>\n",
       "    </tr>\n",
       "  </tbody>\n",
       "</table>\n",
       "</div>"
      ],
      "text/plain": [
       "           statistic\n",
       "f           0.038787\n",
       "precision   0.019817\n",
       "recall      0.906977\n",
       "rho         0.259367"
      ]
     },
     "execution_count": 67,
     "metadata": {},
     "output_type": "execute_result"
    }
   ],
   "source": [
    "stats = get_stats(mock, rdp)\n",
    "stats['rho'] = get_correlation(mock, rdp)\n",
    "stats = Series(stats, name='statistic')\n",
    "stats.to_frame()"
   ]
  }
 ],
 "metadata": {
  "kernelspec": {
   "display_name": "Python [conda env:qiime2]",
   "language": "python",
   "name": "conda-env-qiime2-py"
  },
  "language_info": {
   "codemirror_mode": {
    "name": "ipython",
    "version": 3
   },
   "file_extension": ".py",
   "mimetype": "text/x-python",
   "name": "python",
   "nbconvert_exporter": "python",
   "pygments_lexer": "ipython3",
   "version": "3.5.2"
  }
 },
 "nbformat": 4,
 "nbformat_minor": 1
}
