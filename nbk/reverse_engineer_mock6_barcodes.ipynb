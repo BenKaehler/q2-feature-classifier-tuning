{
 "cells": [
  {
   "cell_type": "code",
   "execution_count": 70,
   "metadata": {
    "collapsed": true
   },
   "outputs": [],
   "source": [
    "from gzip import GzipFile\n",
    "from collections import Counter\n",
    "import csv"
   ]
  },
  {
   "cell_type": "code",
   "execution_count": 71,
   "metadata": {
    "collapsed": false
   },
   "outputs": [
    {
     "data": {
      "text/plain": [
       "[[2121486, 'AGCAGTCGCGAT'],\n",
       " [2073751, 'AGCAGCACTTGT'],\n",
       " [1968649, 'AGCTTGACAGCT'],\n",
       " [1831620, 'ACCGCAGAGTCA'],\n",
       " [1824487, 'AACTGTGCGTAC'],\n",
       " [1794464, 'ACCAGCGACTAG'],\n",
       " [1760957, 'AGGACGCACTGT'],\n",
       " [1757056, 'ACTCGATTCGAT'],\n",
       " [1716754, 'ACGGTGAGTGTC'],\n",
       " [1684217, 'ACAGCAGTGGTC'],\n",
       " [1680877, 'AGACTGCGTACT'],\n",
       " [1575271, 'AAGAGATGTCGA'],\n",
       " [1568319, 'AGACCGTCAGAC'],\n",
       " [1532063, 'AGCACGAGCCTA'],\n",
       " [1495902, 'ACTCACGGTATG'],\n",
       " [1495488, 'AGGCTACACGAC'],\n",
       " [1449991, 'ACAGACCACTCA'],\n",
       " [1432520, 'AGCTGACTAGTC'],\n",
       " [1418450, 'AACGCACGCTAG'],\n",
       " [1384784, 'ACAGAGTCGGCT'],\n",
       " [1297550, 'AACTCGTCGATG'],\n",
       " [1290930, 'AGAGAGCAAGTG'],\n",
       " [1285461, 'AGCATATGAGAG'],\n",
       " [989773, 'ACGGATCGTCAG'],\n",
       " [963924, 'ACGCTCATGGAT'],\n",
       " [917186, 'AGACGTGCACTG'],\n",
       " [863530, 'ACACTGTTCATG'],\n",
       " [841325, 'ACCAGACGATGC'],\n",
       " [807201, 'ACCTCGATCAGA'],\n",
       " [803249, 'ACGTACTCAGTG'],\n",
       " [634205, 'ACTCAGATACTC'],\n",
       " [515938, 'ACTCGCACAGGA'],\n",
       " [196147, 'NNNNNNNNNNNN'],\n",
       " [31540, 'ACCGCAGAGGCA'],\n",
       " [13885, 'ACGGGGAGTGTC'],\n",
       " [12350, 'CGCCGCCCTTGT'],\n",
       " [11060, 'CGCTTGCCCGCT'],\n",
       " [10328, 'CGCCGTCGCGCT'],\n",
       " [9875, 'CGGCCGCCCTGT'],\n",
       " [9854, 'AGCAGCCCTTGT'],\n",
       " [9817, 'ACGGCGAGTGTC'],\n",
       " [9801, 'CCGGTGCGTGTC'],\n",
       " [9739, 'CCCGCCGTGGTC'],\n",
       " [9478, 'CCCGCCGCGTCC'],\n",
       " [9443, 'AGCAGCGACTAG'],\n",
       " [9393, 'AGCAGCACTTGG'],\n",
       " [8936, 'CCCTGTGCGTCC'],\n",
       " [8818, 'CCCCGCGCCTCG'],\n",
       " [8705, 'CGCCTGCGTCCT'],\n",
       " [8595, 'AACTGTGCGGAC'],\n",
       " [8558, 'CCTCGCTTCGCT'],\n",
       " [8431, 'CCCGCGTCGGCT'],\n",
       " [8010, 'AGCAGGACTTGT'],\n",
       " [7893, 'CGCCCGCGCCTC'],\n",
       " [7859, 'CGCTGCCTCGTC'],\n",
       " [7776, 'CGCCCGTCCGCC'],\n",
       " [7773, 'CGGCTCCCCGCC'],\n",
       " [7773, 'CCGCGCTGTCGC'],\n",
       " [7700, 'ACCTGTGCGTAC'],\n",
       " [7606, 'ACAGAGTCGGCC'],\n",
       " [7538, 'CCCGCCCCCTCC'],\n",
       " [7516, 'AGCTTGACCGCT'],\n",
       " [7493, 'AGCCTGCGTACT'],\n",
       " [7428, 'CCTCCCGGTCTG'],\n",
       " [7376, 'ACCCGATTCGAT'],\n",
       " [7150, 'ACCGCACGCTAG'],\n",
       " [7079, 'AACAGCGACTAG']]"
      ]
     },
     "execution_count": 71,
     "metadata": {},
     "output_type": "execute_result"
    }
   ],
   "source": [
    "barcodes = Counter()\n",
    "with GzipFile('../data/mock-6/s_6_1_sequences_barcodes.fastq.gz', 'r') as barcode_file:\n",
    "    for i, barcode in enumerate(barcode_file):\n",
    "        if i % 4 == 1:\n",
    "            barcodes[barcode.decode('utf-8').strip()] += 1\n",
    "candidates = sorted([list(reversed(b)) for b in barcodes.items()], reverse=True)[:67]\n",
    "candidates"
   ]
  },
  {
   "cell_type": "code",
   "execution_count": 68,
   "metadata": {
    "collapsed": false
   },
   "outputs": [],
   "source": [
    "with open('../processed/mock-6/rev_eng_map.tsv', 'w') as mapping_file:\n",
    "    writer = csv.writer(mapping_file, delimiter='\\t')\n",
    "    writer.writerow(['#SampleID', 'BarcodeSequence'])\n",
    "    i = 1\n",
    "    for n, barcode in candidates:\n",
    "        if 'N' in barcode:\n",
    "            break\n",
    "        writer.writerow(['Barcode%02d' % i, barcode])\n",
    "        i += 1"
   ]
  },
  {
   "cell_type": "code",
   "execution_count": 69,
   "metadata": {
    "collapsed": false
   },
   "outputs": [
    {
     "name": "stdout",
     "output_type": "stream",
     "text": [
      "#SampleID\tBarcodeSequence\r",
      "\r\n",
      "Barcode01\tAGCAGTCGCGAT\r",
      "\r\n",
      "Barcode02\tAGCAGCACTTGT\r",
      "\r\n",
      "Barcode03\tAGCTTGACAGCT\r",
      "\r\n",
      "Barcode04\tACCGCAGAGTCA\r",
      "\r\n",
      "Barcode05\tAACTGTGCGTAC\r",
      "\r\n",
      "Barcode06\tACCAGCGACTAG\r",
      "\r\n",
      "Barcode07\tAGGACGCACTGT\r",
      "\r\n",
      "Barcode08\tACGGTGAGTGTC\r",
      "\r\n",
      "Barcode09\tACTCGATTCGAT\r",
      "\r\n",
      "Barcode10\tACAGCAGTGGTC\r",
      "\r\n",
      "Barcode11\tAGACTGCGTACT\r",
      "\r\n",
      "Barcode12\tAGACCGTCAGAC\r",
      "\r\n",
      "Barcode13\tAAGAGATGTCGA\r",
      "\r\n",
      "Barcode14\tAGGCTACACGAC\r",
      "\r\n",
      "Barcode15\tAGCACGAGCCTA\r",
      "\r\n",
      "Barcode16\tACAGAGTCGGCT\r",
      "\r\n",
      "Barcode17\tACAGACCACTCA\r",
      "\r\n",
      "Barcode18\tACTCACGGTATG\r",
      "\r\n",
      "Barcode19\tAACGCACGCTAG\r",
      "\r\n",
      "Barcode20\tAGCTGACTAGTC\r",
      "\r\n",
      "Barcode21\tAGCATATGAGAG\r",
      "\r\n",
      "Barcode22\tAACTCGTCGATG\r",
      "\r\n",
      "Barcode23\tAGAGAGCAAGTG\r",
      "\r\n",
      "Barcode24\tACGGATCGTCAG\r",
      "\r\n",
      "Barcode25\tACGCTCATGGAT\r",
      "\r\n",
      "Barcode26\tAGACGTGCACTG\r",
      "\r\n",
      "Barcode27\tACCAGACGATGC\r",
      "\r\n",
      "Barcode28\tACACTGTTCATG\r",
      "\r\n",
      "Barcode29\tACCTCGATCAGA\r",
      "\r\n",
      "Barcode30\tACGTACTCAGTG\r",
      "\r\n",
      "Barcode31\tACTCAGATACTC\r",
      "\r\n",
      "Barcode32\tACTCGCACAGGA\r",
      "\r\n"
     ]
    }
   ],
   "source": [
    "!cat ../processed/mock-6/rev_eng_map.tsv"
   ]
  },
  {
   "cell_type": "code",
   "execution_count": null,
   "metadata": {
    "collapsed": true
   },
   "outputs": [],
   "source": []
  }
 ],
 "metadata": {
  "anaconda-cloud": {},
  "kernelspec": {
   "display_name": "Python [conda env:qiime2]",
   "language": "python",
   "name": "conda-env-qiime2-py"
  },
  "language_info": {
   "codemirror_mode": {
    "name": "ipython",
    "version": 3
   },
   "file_extension": ".py",
   "mimetype": "text/x-python",
   "name": "python",
   "nbconvert_exporter": "python",
   "pygments_lexer": "ipython3",
   "version": "3.5.2"
  }
 },
 "nbformat": 4,
 "nbformat_minor": 1
}
