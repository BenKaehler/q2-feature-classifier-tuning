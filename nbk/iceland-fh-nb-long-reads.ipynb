{
 "cells": [
  {
   "cell_type": "markdown",
   "metadata": {},
   "source": [
    "# Run `q2-feature-classifer` for the Iceland tutorial dataset"
   ]
  },
  {
   "cell_type": "markdown",
   "metadata": {},
   "source": [
    "### Setup"
   ]
  },
  {
   "cell_type": "code",
   "execution_count": 1,
   "metadata": {
    "collapsed": true
   },
   "outputs": [],
   "source": [
    "import json\n",
    "\n",
    "from qiime import Artifact\n",
    "from qiime.plugins.feature_classifier.methods import extract_reads, \\\n",
    "    fit_classifier, classify\n",
    "from q2_types import DNAIterator"
   ]
  },
  {
   "cell_type": "markdown",
   "metadata": {},
   "source": [
    "### Extract the reference reads"
   ]
  },
  {
   "cell_type": "code",
   "execution_count": 6,
   "metadata": {
    "collapsed": true
   },
   "outputs": [],
   "source": [
    "max_len = 10000"
   ]
  },
  {
   "cell_type": "code",
   "execution_count": 7,
   "metadata": {
    "collapsed": false
   },
   "outputs": [
    {
     "data": {
      "text/plain": [
       "'iceland/99_13_8_515_806_long_reads.qza'"
      ]
     },
     "execution_count": 7,
     "metadata": {},
     "output_type": "execute_result"
    }
   ],
   "source": [
    "ref_aln = Artifact.load('iceland/99_13_8_ref_pynast_aln.qza')\n",
    "primer_515F = 'GTGCCAGCMGCCGCGGTAA'\n",
    "primer_806R = 'GGACTACHVGGGTWTCTAAT'\n",
    "ref_seq = extract_reads(ref_aln, max_len, primer_515F, primer_806R, n_sample=100000).reads\n",
    "ref_seq.save('iceland/99_13_8_515_806_long_reads.qza')"
   ]
  },
  {
   "cell_type": "markdown",
   "metadata": {},
   "source": [
    "### Check the read lengths"
   ]
  },
  {
   "cell_type": "code",
   "execution_count": 8,
   "metadata": {
    "collapsed": false
   },
   "outputs": [
    {
     "name": "stdout",
     "output_type": "stream",
     "text": [
      "max_len is ok\n"
     ]
    }
   ],
   "source": [
    "ref_seq = Artifact.load('iceland/99_13_8_515_806_long_reads.qza')\n",
    "for seq in ref_seq.view(DNAIterator):\n",
    "    if len(seq) >= max_len:\n",
    "        print('max_len is not big enough:')\n",
    "        print(seq)\n",
    "        break\n",
    "else:\n",
    "    print('max_len is ok')"
   ]
  },
  {
   "cell_type": "markdown",
   "metadata": {},
   "source": [
    "### Train the feature hashing naive Bayes classifier"
   ]
  },
  {
   "cell_type": "code",
   "execution_count": 9,
   "metadata": {
    "collapsed": false
   },
   "outputs": [
    {
     "data": {
      "text/plain": [
       "'iceland/99_13_8_fh_nb_se_long_reads_classfier.qza'"
      ]
     },
     "execution_count": 9,
     "metadata": {},
     "output_type": "execute_result"
    }
   ],
   "source": [
    "ref_seq = Artifact.load('iceland/99_13_8_515_806_long_reads.qza')\n",
    "ref_tax = Artifact.load('iceland/99_13_8_ref_taxonomy.qza')\n",
    "classifier_spec = \\\n",
    "    {'steps': [\n",
    "     ['hash', 'feature_extraction.FeatureHasher'],\n",
    "     ['classify', 'naive_bayes.MultinomialNB']],\n",
    "     'classify': {'alpha': 0.01},\n",
    "     'hash': {'non_negative': True, 'n_features': 8192}}\n",
    "classifier_spec = json.dumps(classifier_spec)\n",
    "classifier = fit_classifier(ref_seq, ref_tax, \n",
    "                            classifier_specification=classifier_spec).classifier\n",
    "classifier.save('iceland/99_13_8_fh_nb_se_long_reads_classfier.qza')"
   ]
  },
  {
   "cell_type": "markdown",
   "metadata": {},
   "source": [
    "### Classify the reads"
   ]
  },
  {
   "cell_type": "code",
   "execution_count": null,
   "metadata": {
    "collapsed": false
   },
   "outputs": [],
   "source": [
    "%%time\n",
    "reads = Artifact.load('iceland/fmt-tutorial-rep-seqs.qza')\n",
    "classifier = Artifact.load('iceland/99_13_8_fh_nb_se_long_reads_classfier.qza')\n",
    "for confidence in range(0, 101, 5):\n",
    "    classification = classify(reads, classifier, confidence=confidence/100).classification\n",
    "    classification.save('iceland/fh-long/fmt-tutorial-classification-c-%03d.qza' % confidence)"
   ]
  },
  {
   "cell_type": "code",
   "execution_count": null,
   "metadata": {
    "collapsed": true
   },
   "outputs": [],
   "source": []
  }
 ],
 "metadata": {
  "anaconda-cloud": {},
  "kernelspec": {
   "display_name": "Python [conda env:qiime2]",
   "language": "python",
   "name": "conda-env-qiime2-py"
  },
  "language_info": {
   "codemirror_mode": {
    "name": "ipython",
    "version": 3
   },
   "file_extension": ".py",
   "mimetype": "text/x-python",
   "name": "python",
   "nbconvert_exporter": "python",
   "pygments_lexer": "ipython3",
   "version": "3.5.2"
  }
 },
 "nbformat": 4,
 "nbformat_minor": 1
}
