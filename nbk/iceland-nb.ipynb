{
 "cells": [
  {
   "cell_type": "markdown",
   "metadata": {},
   "source": [
    "# Run `q2-feature-classifer` for the Iceland tutorial dataset"
   ]
  },
  {
   "cell_type": "markdown",
   "metadata": {},
   "source": [
    "### Setup"
   ]
  },
  {
   "cell_type": "code",
   "execution_count": 1,
   "metadata": {
    "collapsed": true
   },
   "outputs": [],
   "source": [
    "from qiime import Artifact\n",
    "from qiime.plugins.feature_classifier.methods import extract_reads, \\\n",
    "    fit_classifier_naive_bayes, classify"
   ]
  },
  {
   "cell_type": "markdown",
   "metadata": {},
   "source": [
    "### Extract the reference reads"
   ]
  },
  {
   "cell_type": "code",
   "execution_count": 14,
   "metadata": {
    "collapsed": false
   },
   "outputs": [],
   "source": [
    "ref_aln = Artifact.load('iceland/99_13_8_ref_pynast_aln.qza')\n",
    "primer_515F = 'GTGCCAGCMGCCGCGGTAA'\n",
    "primer_806R = 'GGACTACHVGGGTWTCTAAT'\n",
    "ref_seq = extract_reads(ref_aln, 120, primer_515F, primer_806R, n_sample=100000).reads\n",
    "ref_seq.save('iceland/99_13_8_515_806_reads.qza')"
   ]
  },
  {
   "cell_type": "markdown",
   "metadata": {},
   "source": [
    "### Train the naive Bayes classifier"
   ]
  },
  {
   "cell_type": "code",
   "execution_count": 18,
   "metadata": {
    "collapsed": false
   },
   "outputs": [],
   "source": [
    "ref_seq = Artifact.load('iceland/99_13_8_515_806_reads.qza')\n",
    "ref_tax = Artifact.load('iceland/99_13_8_ref_taxonomy.qza')\n",
    "classifier = fit_classifier_naive_bayes(ref_seq, ref_tax).classifier\n",
    "classifier.save('iceland/99_13_8_nb_se_classfier.qza')"
   ]
  },
  {
   "cell_type": "markdown",
   "metadata": {},
   "source": [
    "### Classify the reads"
   ]
  },
  {
   "cell_type": "code",
   "execution_count": 16,
   "metadata": {
    "collapsed": false
   },
   "outputs": [],
   "source": [
    "reads = Artifact.load('iceland/fmt-tutorial-rep-seqs.qza')\n",
    "classifier = Artifact.load('iceland/99_13_8_nb_se_classfier.qza')\n",
    "for confidence in range(0, 101, 5):\n",
    "    classification = classify(reads, classifier, confidence=confidence/100).classification\n",
    "    classification.save('iceland/nb/fmt-tutorial-classification-c-%03d.qza' % confidence)"
   ]
  }
 ],
 "metadata": {
  "anaconda-cloud": {},
  "kernelspec": {
   "display_name": "Python [conda env:qiime2]",
   "language": "python",
   "name": "conda-env-qiime2-py"
  },
  "language_info": {
   "codemirror_mode": {
    "name": "ipython",
    "version": 3
   },
   "file_extension": ".py",
   "mimetype": "text/x-python",
   "name": "python",
   "nbconvert_exporter": "python",
   "pygments_lexer": "ipython3",
   "version": "3.5.2"
  }
 },
 "nbformat": 4,
 "nbformat_minor": 1
}
