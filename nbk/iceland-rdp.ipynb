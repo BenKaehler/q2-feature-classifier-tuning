{
 "cells": [
  {
   "cell_type": "markdown",
   "metadata": {},
   "source": [
    "# Run `rdp_classifier` for the Iceland tutorial dataset"
   ]
  },
  {
   "cell_type": "markdown",
   "metadata": {},
   "source": [
    "### Retrain the classifier and classify"
   ]
  },
  {
   "cell_type": "code",
   "execution_count": 34,
   "metadata": {
    "collapsed": false
   },
   "outputs": [],
   "source": [
    "cmds = []\n",
    "for confidence in range(0, 101, 5):\n",
    "    cmds.append('assign_taxonomy.py -i iceland/rep_seq.fasta '\n",
    "                '-t iceland/taxonomy.tsv -r iceland/ref_seq.fasta '\n",
    "                '-o iceland/rdp/rdp-%03d -m rdp -c %g' % \n",
    "                (confidence, 1.0*confidence/100))\n",
    "cmd = ' && '.join(cmds)"
   ]
  },
  {
   "cell_type": "code",
   "execution_count": 35,
   "metadata": {
    "collapsed": false
   },
   "outputs": [],
   "source": [
    "%%bash -s \"{cmd}\"\n",
    "source activate qiime\n",
    "export RDP_JAR_PATH=/Users/ben/build/rdp_classifier_2.5/rdp_classifier-2.5.jar\n",
    "eval $1"
   ]
  },
  {
   "cell_type": "code",
   "execution_count": null,
   "metadata": {
    "collapsed": true
   },
   "outputs": [],
   "source": []
  }
 ],
 "metadata": {
  "anaconda-cloud": {},
  "kernelspec": {
   "display_name": "Python [conda env:qiime]",
   "language": "python",
   "name": "conda-env-qiime-py"
  },
  "language_info": {
   "codemirror_mode": {
    "name": "ipython",
    "version": 2
   },
   "file_extension": ".py",
   "mimetype": "text/x-python",
   "name": "python",
   "nbconvert_exporter": "python",
   "pygments_lexer": "ipython2",
   "version": "2.7.11"
  }
 },
 "nbformat": 4,
 "nbformat_minor": 1
}
